{
 "cells": [
  {
   "cell_type": "markdown",
   "metadata": {
    "jp-MarkdownHeadingCollapsed": true
   },
   "source": [
    "# PROJECT_2 SUBMISSION:\n",
    "\n",
    "* Student name: IAN MOIRE\n",
    "* Student pace: FULL TIME\n",
    "* Scheduled project review date/time: 2025\n",
    "* Instructor name: VERONICA ISIAHO"
   ]
  },
  {
   "cell_type": "markdown",
   "metadata": {},
   "source": [
    "# CLICK ON THIS [Link](https://docs.google.com/presentation/d/1QtdeUWmh0Iy1yvysv4eWnRESydBDSsw2x7ZQcWKhQsk/edit?usp=sharing) TO ACCESS THE NON-TECHNICAL PRESENTATION."
   ]
  },
  {
   "cell_type": "markdown",
   "metadata": {},
   "source": [
    "# CLICK ON THIS [Link](https://public.tableau.com/app/profile/ian.moire/viz/Uganda_District_data_Dashboard/DISTRICTS_DASHBOARD) TO ACCESS THE TABLEAU DISTRICTS DATA DASHBOARD."
   ]
  },
  {
   "cell_type": "markdown",
   "metadata": {},
   "source": [
    "# CLICK ON THIS [Link](https://public.tableau.com/app/profile/ian.moire/viz/Uganda_Subcounty_data_Dashboard/SUBCOUNTIES_DASHBOARD) TO ACCESS THE TABLEAU SUBCOUNTIES DATA DASHBOARD."
   ]
  },
  {
   "cell_type": "markdown",
   "metadata": {
    "jp-MarkdownHeadingCollapsed": true
   },
   "source": [
    "# PROJECT_2:"
   ]
  },
  {
   "cell_type": "markdown",
   "metadata": {},
   "source": [
    "# Introduction\n",
    "**Develop an interactive visualization tool of the results for Karamoja Crop Yields.**"
   ]
  },
  {
   "cell_type": "markdown",
   "metadata": {},
   "source": [
    "## > Use the required libraries"
   ]
  },
  {
   "cell_type": "code",
   "execution_count": 94,
   "metadata": {},
   "outputs": [],
   "source": [
    "import pandas as pd\n",
    "import numpy as np\n",
    "import matplotlib.pyplot as plt\n",
    "import seaborn as sns\n",
    "\n",
    "%matplotlib inline"
   ]
  },
  {
   "cell_type": "markdown",
   "metadata": {},
   "source": [
    "## > Open the Uganda_Karamoja_District_Crop_Yield_Population file"
   ]
  },
  {
   "cell_type": "code",
   "execution_count": 69,
   "metadata": {},
   "outputs": [
    {
     "data": {
      "text/html": [
       "<div>\n",
       "<style scoped>\n",
       "    .dataframe tbody tr th:only-of-type {\n",
       "        vertical-align: middle;\n",
       "    }\n",
       "\n",
       "    .dataframe tbody tr th {\n",
       "        vertical-align: top;\n",
       "    }\n",
       "\n",
       "    .dataframe thead th {\n",
       "        text-align: right;\n",
       "    }\n",
       "</style>\n",
       "<table border=\"1\" class=\"dataframe\">\n",
       "  <thead>\n",
       "    <tr style=\"text-align: right;\">\n",
       "      <th></th>\n",
       "      <th>OBJECTID</th>\n",
       "      <th>NAME</th>\n",
       "      <th>POP</th>\n",
       "      <th>Area</th>\n",
       "      <th>S_Yield_Ha</th>\n",
       "      <th>M_Yield_Ha</th>\n",
       "      <th>Crop_Area_Ha</th>\n",
       "      <th>S_Area_Ha</th>\n",
       "      <th>M_Area_Ha</th>\n",
       "      <th>S_Prod_Tot</th>\n",
       "      <th>M_Prod_Tot</th>\n",
       "    </tr>\n",
       "  </thead>\n",
       "  <tbody>\n",
       "    <tr>\n",
       "      <th>0</th>\n",
       "      <td>92</td>\n",
       "      <td>ABIM</td>\n",
       "      <td>90385</td>\n",
       "      <td>2771977106</td>\n",
       "      <td>449</td>\n",
       "      <td>1040</td>\n",
       "      <td>5470.068394</td>\n",
       "      <td>3277.295971</td>\n",
       "      <td>1848.621855</td>\n",
       "      <td>1471506</td>\n",
       "      <td>1922567</td>\n",
       "    </tr>\n",
       "    <tr>\n",
       "      <th>1</th>\n",
       "      <td>96</td>\n",
       "      <td>AMUDAT</td>\n",
       "      <td>101790</td>\n",
       "      <td>1643582836</td>\n",
       "      <td>205</td>\n",
       "      <td>1297</td>\n",
       "      <td>5765.443719</td>\n",
       "      <td>2973.423860</td>\n",
       "      <td>2733.661014</td>\n",
       "      <td>609552</td>\n",
       "      <td>3545558</td>\n",
       "    </tr>\n",
       "    <tr>\n",
       "      <th>2</th>\n",
       "      <td>20</td>\n",
       "      <td>KAABONG</td>\n",
       "      <td>627057</td>\n",
       "      <td>7373606003</td>\n",
       "      <td>279</td>\n",
       "      <td>945</td>\n",
       "      <td>28121.672530</td>\n",
       "      <td>20544.194960</td>\n",
       "      <td>7394.416334</td>\n",
       "      <td>5731830</td>\n",
       "      <td>6987723</td>\n",
       "    </tr>\n",
       "    <tr>\n",
       "      <th>3</th>\n",
       "      <td>85</td>\n",
       "      <td>KOTIDO</td>\n",
       "      <td>243157</td>\n",
       "      <td>3641539808</td>\n",
       "      <td>331</td>\n",
       "      <td>1148</td>\n",
       "      <td>53032.649450</td>\n",
       "      <td>50247.443900</td>\n",
       "      <td>1751.372284</td>\n",
       "      <td>16631904</td>\n",
       "      <td>2010575</td>\n",
       "    </tr>\n",
       "    <tr>\n",
       "      <th>4</th>\n",
       "      <td>5</td>\n",
       "      <td>MOROTO</td>\n",
       "      <td>127811</td>\n",
       "      <td>3570160948</td>\n",
       "      <td>128</td>\n",
       "      <td>355</td>\n",
       "      <td>5954.814048</td>\n",
       "      <td>4741.748776</td>\n",
       "      <td>1190.050606</td>\n",
       "      <td>606944</td>\n",
       "      <td>422468</td>\n",
       "    </tr>\n",
       "  </tbody>\n",
       "</table>\n",
       "</div>"
      ],
      "text/plain": [
       "   OBJECTID     NAME     POP        Area  S_Yield_Ha  M_Yield_Ha  \\\n",
       "0        92     ABIM   90385  2771977106         449        1040   \n",
       "1        96   AMUDAT  101790  1643582836         205        1297   \n",
       "2        20  KAABONG  627057  7373606003         279         945   \n",
       "3        85   KOTIDO  243157  3641539808         331        1148   \n",
       "4         5   MOROTO  127811  3570160948         128         355   \n",
       "\n",
       "   Crop_Area_Ha     S_Area_Ha    M_Area_Ha  S_Prod_Tot  M_Prod_Tot  \n",
       "0   5470.068394   3277.295971  1848.621855     1471506     1922567  \n",
       "1   5765.443719   2973.423860  2733.661014      609552     3545558  \n",
       "2  28121.672530  20544.194960  7394.416334     5731830     6987723  \n",
       "3  53032.649450  50247.443900  1751.372284    16631904     2010575  \n",
       "4   5954.814048   4741.748776  1190.050606      606944      422468  "
      ]
     },
     "execution_count": 69,
     "metadata": {},
     "output_type": "execute_result"
    }
   ],
   "source": [
    "# Print the first five rows\n",
    "district_data = pd.read_csv('/Users/mac/Documents/Flatiron/DATA/TABLES/Uganda_Karamoja_District_Crop_Yield_Population.csv')\n",
    "district_data.head()"
   ]
  },
  {
   "cell_type": "markdown",
   "metadata": {},
   "source": [
    "## > Check for any missing values"
   ]
  },
  {
   "cell_type": "code",
   "execution_count": 70,
   "metadata": {},
   "outputs": [
    {
     "name": "stdout",
     "output_type": "stream",
     "text": [
      "<class 'pandas.core.frame.DataFrame'>\n",
      "RangeIndex: 7 entries, 0 to 6\n",
      "Data columns (total 11 columns):\n",
      " #   Column        Non-Null Count  Dtype  \n",
      "---  ------        --------------  -----  \n",
      " 0   OBJECTID      7 non-null      int64  \n",
      " 1   NAME          7 non-null      object \n",
      " 2   POP           7 non-null      int64  \n",
      " 3   Area          7 non-null      int64  \n",
      " 4   S_Yield_Ha    7 non-null      int64  \n",
      " 5   M_Yield_Ha    7 non-null      int64  \n",
      " 6   Crop_Area_Ha  7 non-null      float64\n",
      " 7   S_Area_Ha     7 non-null      float64\n",
      " 8   M_Area_Ha     7 non-null      float64\n",
      " 9   S_Prod_Tot    7 non-null      int64  \n",
      " 10  M_Prod_Tot    7 non-null      int64  \n",
      "dtypes: float64(3), int64(7), object(1)\n",
      "memory usage: 744.0+ bytes\n"
     ]
    }
   ],
   "source": [
    "# Get the summary about the dataset\n",
    "district_data.info()"
   ]
  },
  {
   "cell_type": "markdown",
   "metadata": {},
   "source": [
    "## > Open the Uganda_Karamoja_Subcounty_Crop_Yield_Population file"
   ]
  },
  {
   "cell_type": "code",
   "execution_count": 71,
   "metadata": {},
   "outputs": [
    {
     "data": {
      "text/html": [
       "<div>\n",
       "<style scoped>\n",
       "    .dataframe tbody tr th:only-of-type {\n",
       "        vertical-align: middle;\n",
       "    }\n",
       "\n",
       "    .dataframe tbody tr th {\n",
       "        vertical-align: top;\n",
       "    }\n",
       "\n",
       "    .dataframe thead th {\n",
       "        text-align: right;\n",
       "    }\n",
       "</style>\n",
       "<table border=\"1\" class=\"dataframe\">\n",
       "  <thead>\n",
       "    <tr style=\"text-align: right;\">\n",
       "      <th></th>\n",
       "      <th>OBJECTID</th>\n",
       "      <th>SUBCOUNTY_NAME</th>\n",
       "      <th>DISTRICT_NAME</th>\n",
       "      <th>POP</th>\n",
       "      <th>Area</th>\n",
       "      <th>Karamoja</th>\n",
       "      <th>S_Yield_Ha</th>\n",
       "      <th>M_Yield_Ha</th>\n",
       "      <th>Crop_Area_Ha</th>\n",
       "      <th>S_Area_Ha</th>\n",
       "      <th>M_Area_Ha</th>\n",
       "      <th>S_Prod_Tot</th>\n",
       "      <th>M_Prod_Tot</th>\n",
       "    </tr>\n",
       "  </thead>\n",
       "  <tbody>\n",
       "    <tr>\n",
       "      <th>0</th>\n",
       "      <td>263</td>\n",
       "      <td>KACHERI</td>\n",
       "      <td>KOTIDO</td>\n",
       "      <td>17244</td>\n",
       "      <td>1067176155</td>\n",
       "      <td>Y</td>\n",
       "      <td>354.207411</td>\n",
       "      <td>1137.467019</td>\n",
       "      <td>7023.533691</td>\n",
       "      <td>6434.342449</td>\n",
       "      <td>528.124229</td>\n",
       "      <td>2.279092e+06</td>\n",
       "      <td>600723.892900</td>\n",
       "    </tr>\n",
       "    <tr>\n",
       "      <th>1</th>\n",
       "      <td>264</td>\n",
       "      <td>KOTIDO</td>\n",
       "      <td>KOTIDO</td>\n",
       "      <td>52771</td>\n",
       "      <td>597575188</td>\n",
       "      <td>Y</td>\n",
       "      <td>367.890523</td>\n",
       "      <td>1162.996687</td>\n",
       "      <td>13587.990760</td>\n",
       "      <td>12455.592640</td>\n",
       "      <td>824.767081</td>\n",
       "      <td>4.582294e+06</td>\n",
       "      <td>959201.382500</td>\n",
       "    </tr>\n",
       "    <tr>\n",
       "      <th>2</th>\n",
       "      <td>265</td>\n",
       "      <td>KOTIDO TOWN COUNCIL</td>\n",
       "      <td>KOTIDO</td>\n",
       "      <td>27389</td>\n",
       "      <td>23972401</td>\n",
       "      <td>Y</td>\n",
       "      <td>369.314177</td>\n",
       "      <td>1167.005832</td>\n",
       "      <td>1656.531855</td>\n",
       "      <td>1520.322052</td>\n",
       "      <td>8.561644</td>\n",
       "      <td>5.614765e+05</td>\n",
       "      <td>9991.488268</td>\n",
       "    </tr>\n",
       "    <tr>\n",
       "      <th>3</th>\n",
       "      <td>266</td>\n",
       "      <td>NAKAPERIMORU</td>\n",
       "      <td>KOTIDO</td>\n",
       "      <td>38775</td>\n",
       "      <td>419111591</td>\n",
       "      <td>Y</td>\n",
       "      <td>283.324569</td>\n",
       "      <td>852.366578</td>\n",
       "      <td>7087.823334</td>\n",
       "      <td>6761.488901</td>\n",
       "      <td>45.721712</td>\n",
       "      <td>1.915696e+06</td>\n",
       "      <td>38971.659080</td>\n",
       "    </tr>\n",
       "    <tr>\n",
       "      <th>4</th>\n",
       "      <td>267</td>\n",
       "      <td>PANYANGARA</td>\n",
       "      <td>KOTIDO</td>\n",
       "      <td>65704</td>\n",
       "      <td>880955930</td>\n",
       "      <td>Y</td>\n",
       "      <td>373.836926</td>\n",
       "      <td>1283.859882</td>\n",
       "      <td>10398.249390</td>\n",
       "      <td>10111.198130</td>\n",
       "      <td>172.611914</td>\n",
       "      <td>3.779939e+06</td>\n",
       "      <td>221609.511400</td>\n",
       "    </tr>\n",
       "  </tbody>\n",
       "</table>\n",
       "</div>"
      ],
      "text/plain": [
       "   OBJECTID       SUBCOUNTY_NAME DISTRICT_NAME    POP        Area Karamoja  \\\n",
       "0       263              KACHERI        KOTIDO  17244  1067176155        Y   \n",
       "1       264               KOTIDO        KOTIDO  52771   597575188        Y   \n",
       "2       265  KOTIDO TOWN COUNCIL        KOTIDO  27389    23972401        Y   \n",
       "3       266         NAKAPERIMORU        KOTIDO  38775   419111591        Y   \n",
       "4       267           PANYANGARA        KOTIDO  65704   880955930        Y   \n",
       "\n",
       "   S_Yield_Ha   M_Yield_Ha  Crop_Area_Ha     S_Area_Ha   M_Area_Ha  \\\n",
       "0  354.207411  1137.467019   7023.533691   6434.342449  528.124229   \n",
       "1  367.890523  1162.996687  13587.990760  12455.592640  824.767081   \n",
       "2  369.314177  1167.005832   1656.531855   1520.322052    8.561644   \n",
       "3  283.324569   852.366578   7087.823334   6761.488901   45.721712   \n",
       "4  373.836926  1283.859882  10398.249390  10111.198130  172.611914   \n",
       "\n",
       "     S_Prod_Tot     M_Prod_Tot  \n",
       "0  2.279092e+06  600723.892900  \n",
       "1  4.582294e+06  959201.382500  \n",
       "2  5.614765e+05    9991.488268  \n",
       "3  1.915696e+06   38971.659080  \n",
       "4  3.779939e+06  221609.511400  "
      ]
     },
     "execution_count": 71,
     "metadata": {},
     "output_type": "execute_result"
    }
   ],
   "source": [
    "# Print the first five rows\n",
    "subcounty_data = pd.read_csv('/Users/mac/Documents/Flatiron/DATA/TABLES/Uganda_Karamoja_Subcounty_Crop_Yield_Population.csv')\n",
    "subcounty_data.head()"
   ]
  },
  {
   "cell_type": "markdown",
   "metadata": {},
   "source": [
    "## > Check for any missing values"
   ]
  },
  {
   "cell_type": "code",
   "execution_count": 72,
   "metadata": {},
   "outputs": [
    {
     "name": "stdout",
     "output_type": "stream",
     "text": [
      "<class 'pandas.core.frame.DataFrame'>\n",
      "RangeIndex: 52 entries, 0 to 51\n",
      "Data columns (total 13 columns):\n",
      " #   Column          Non-Null Count  Dtype  \n",
      "---  ------          --------------  -----  \n",
      " 0   OBJECTID        52 non-null     int64  \n",
      " 1   SUBCOUNTY_NAME  52 non-null     object \n",
      " 2   DISTRICT_NAME   52 non-null     object \n",
      " 3   POP             52 non-null     int64  \n",
      " 4   Area            52 non-null     int64  \n",
      " 5   Karamoja        52 non-null     object \n",
      " 6   S_Yield_Ha      52 non-null     float64\n",
      " 7   M_Yield_Ha      52 non-null     float64\n",
      " 8   Crop_Area_Ha    52 non-null     float64\n",
      " 9   S_Area_Ha       52 non-null     float64\n",
      " 10  M_Area_Ha       52 non-null     float64\n",
      " 11  S_Prod_Tot      52 non-null     float64\n",
      " 12  M_Prod_Tot      52 non-null     float64\n",
      "dtypes: float64(7), int64(3), object(3)\n",
      "memory usage: 5.4+ KB\n"
     ]
    }
   ],
   "source": [
    "# Get the summary about the dataset\n",
    "subcounty_data.info()"
   ]
  },
  {
   "cell_type": "markdown",
   "metadata": {},
   "source": [
    "**NOTE:\n",
    "According to the summary of both the files, it seems that both the datasets are clean.So there is no any further cleaning that should be performed.**"
   ]
  },
  {
   "cell_type": "markdown",
   "metadata": {},
   "source": [
    "## > Check for duplicates"
   ]
  },
  {
   "cell_type": "code",
   "execution_count": 73,
   "metadata": {},
   "outputs": [],
   "source": [
    "# Removing duplicates in the district dataset\n",
    "district_data.drop_duplicates(inplace=True)\n",
    "\n",
    "# Removing duplicates in the subcounty dataset\n",
    "subcounty_data.drop_duplicates(inplace=True)"
   ]
  },
  {
   "cell_type": "code",
   "execution_count": 74,
   "metadata": {},
   "outputs": [
    {
     "name": "stdout",
     "output_type": "stream",
     "text": [
      "District_data: 7\n",
      "Subcounty_data: 52\n"
     ]
    }
   ],
   "source": [
    "# Number of rows after removing duplicates\n",
    "print(\"District_data:\", district_data.shape[0])\n",
    "print(\"Subcounty_data:\", subcounty_data.shape[0])"
   ]
  },
  {
   "cell_type": "markdown",
   "metadata": {},
   "source": [
    "**NOTE:\n",
    "The dataset entries has not changed so to mean there were no duplicates in both datasets.**"
   ]
  },
  {
   "cell_type": "markdown",
   "metadata": {},
   "source": [
    "## > Check for outliers"
   ]
  },
  {
   "cell_type": "code",
   "execution_count": 75,
   "metadata": {},
   "outputs": [
    {
     "data": {
      "image/png": "[encoded data removed]",
      "text/plain": [
       "<Figure size 1000x600 with 1 Axes>"
      ]
     },
     "metadata": {},
     "output_type": "display_data"
    },
    {
     "data": {
      "image/png": "[encoded data removed]",
      "text/plain": [
       "<Figure size 1000x600 with 1 Axes>"
      ]
     },
     "metadata": {},
     "output_type": "display_data"
    }
   ],
   "source": [
    "# Plot distribution of sorghum yield for district_data\n",
    "plt.figure(figsize=(10, 6))\n",
    "sns.boxplot(x=district_data['S_Yield_Ha'])\n",
    "plt.title('Boxplot of Sorghum Yield (District_data)')\n",
    "plt.show()\n",
    "\n",
    "# Plot distribution of maize yield for district_data\n",
    "plt.figure(figsize=(10, 6))\n",
    "sns.boxplot(x=district_data['M_Yield_Ha'])\n",
    "plt.title('Boxplot of Maize Yield (District_data)')\n",
    "plt.show()\n"
   ]
  },
  {
   "cell_type": "code",
   "execution_count": 77,
   "metadata": {},
   "outputs": [
    {
     "data": {
      "image/png": "[encoded data removed]",
      "text/plain": [
       "<Figure size 1000x600 with 1 Axes>"
      ]
     },
     "metadata": {},
     "output_type": "display_data"
    },
    {
     "data": {
      "image/png": "[encoded data removed]",
      "text/plain": [
       "<Figure size 1000x600 with 1 Axes>"
      ]
     },
     "metadata": {},
     "output_type": "display_data"
    }
   ],
   "source": [
    "# Plot distribution of sorghum yield for subcounty_data\n",
    "plt.figure(figsize=(10, 6))\n",
    "sns.boxplot(x=subcounty_data['S_Yield_Ha'])\n",
    "plt.title('Boxplot of Sorghum Yield (Subcounty_data)')\n",
    "plt.show()\n",
    "\n",
    "# Plot distribution of maize yield for subcounty_data\n",
    "plt.figure(figsize=(10, 6))\n",
    "sns.boxplot(x=subcounty_data['M_Yield_Ha'])\n",
    "plt.title('Boxplot of Maize Yield (Subcounty_data)')\n",
    "plt.show()\n"
   ]
  },
  {
   "cell_type": "code",
   "execution_count": 78,
   "metadata": {},
   "outputs": [
    {
     "name": "stdout",
     "output_type": "stream",
     "text": [
      "   OBJECTID    NAME     POP        Area  S_Yield_Ha  M_Yield_Ha  Crop_Area_Ha  \\\n",
      "1        96  AMUDAT  101790  1643582836         205        1297   5765.443719   \n",
      "\n",
      "    S_Area_Ha    M_Area_Ha  S_Prod_Tot  M_Prod_Tot  \n",
      "1  2973.42386  2733.661014      609552     3545558  \n"
     ]
    }
   ],
   "source": [
    "# Inspect the district_data outlier\n",
    "outlier_value = district_data[district_data['M_Yield_Ha'] == district_data['M_Yield_Ha'].max()]\n",
    "print(outlier_value)"
   ]
  },
  {
   "cell_type": "code",
   "execution_count": 79,
   "metadata": {},
   "outputs": [],
   "source": [
    "# Remove the district_data outlier in the maize yield data\n",
    "district_data = district_data[district_data['M_Yield_Ha'] != district_data['M_Yield_Ha'].max()]"
   ]
  },
  {
   "cell_type": "code",
   "execution_count": 80,
   "metadata": {},
   "outputs": [
    {
     "name": "stdout",
     "output_type": "stream",
     "text": [
      "    OBJECTID SUBCOUNTY_NAME DISTRICT_NAME    POP       Area Karamoja  \\\n",
      "19       604          SIDOK       KAABONG  24092  125330583        Y   \n",
      "\n",
      "    S_Yield_Ha   M_Yield_Ha  Crop_Area_Ha   S_Area_Ha  M_Area_Ha   S_Prod_Tot  \\\n",
      "19  285.336294  1396.991494    957.493946  859.649027  97.542243  245289.0679   \n",
      "\n",
      "     M_Prod_Tot  \n",
      "19  136265.6835  \n"
     ]
    }
   ],
   "source": [
    "# Inspect the subcounty_data outlier\n",
    "outlier_value_1 = subcounty_data[subcounty_data['M_Yield_Ha'] == subcounty_data['M_Yield_Ha'].max()]\n",
    "print(outlier_value_1)"
   ]
  },
  {
   "cell_type": "code",
   "execution_count": 81,
   "metadata": {},
   "outputs": [],
   "source": [
    "# Remove the subcounty_data outlier in the maize yield data\n",
    "subcounty_data = subcounty_data[subcounty_data['M_Yield_Ha'] != subcounty_data['M_Yield_Ha'].max()]"
   ]
  },
  {
   "cell_type": "markdown",
   "metadata": {},
   "source": [
    "**Check if the outlier was removed**"
   ]
  },
  {
   "cell_type": "code",
   "execution_count": 82,
   "metadata": {},
   "outputs": [
    {
     "name": "stdout",
     "output_type": "stream",
     "text": [
      "   OBJECTID           NAME     POP        Area  S_Yield_Ha  M_Yield_Ha  \\\n",
      "0        92           ABIM   90385  2771977106         449        1040   \n",
      "2        20        KAABONG  627057  7373606003         279         945   \n",
      "3        85         KOTIDO  243157  3641539808         331        1148   \n",
      "4         5         MOROTO  127811  3570160948         128         355   \n",
      "5        54  NAKAPIRIPIRIT  146780  4216323900         356        1264   \n",
      "6        80          NAPAK  167625  4508782023         137         854   \n",
      "\n",
      "   Crop_Area_Ha     S_Area_Ha    M_Area_Ha  S_Prod_Tot  M_Prod_Tot  \n",
      "0   5470.068394   3277.295971  1848.621855     1471506     1922567  \n",
      "2  28121.672530  20544.194960  7394.416334     5731830     6987723  \n",
      "3  53032.649450  50247.443900  1751.372284    16631904     2010575  \n",
      "4   5954.814048   4741.748776  1190.050606      606944      422468  \n",
      "5  26372.698490  19237.333210  6425.788414     6848491     8122197  \n",
      "6  22944.296020  16142.015880  6543.719066     2211456     5588336  \n"
     ]
    }
   ],
   "source": [
    "print(district_data)"
   ]
  },
  {
   "cell_type": "code",
   "execution_count": 83,
   "metadata": {},
   "outputs": [
    {
     "name": "stdout",
     "output_type": "stream",
     "text": [
      "    OBJECTID              SUBCOUNTY_NAME  DISTRICT_NAME     POP        Area  \\\n",
      "0        263                     KACHERI         KOTIDO   17244  1067176155   \n",
      "1        264                      KOTIDO         KOTIDO   52771   597575188   \n",
      "2        265         KOTIDO TOWN COUNCIL         KOTIDO   27389    23972401   \n",
      "3        266                NAKAPERIMORU         KOTIDO   38775   419111591   \n",
      "4        267                  PANYANGARA         KOTIDO   65704   880955930   \n",
      "5        268                      RENGEN         KOTIDO   41273   652744859   \n",
      "6        591               KAABONG  EAST        KAABONG   42221    60801942   \n",
      "7        592        KAABONG TOWN COUNCIL        KAABONG   38857    13071455   \n",
      "8        593                KAABONG WEST        KAABONG   41454    67612362   \n",
      "9        594                    KALAPATA        KAABONG   99203   223116860   \n",
      "10       595                      KAMION        KAABONG   60070  1199409465   \n",
      "11       596                      KAPEDO        KAABONG   33951   304557831   \n",
      "12       597                     KATHILE        KAABONG   56870   228457417   \n",
      "13       598                   KAWALAKOL        KAABONG   37691  1742041261   \n",
      "14       599                  LOBALANGIT        KAABONG   22907   302572789   \n",
      "15       600                      LODIKO        KAABONG   31820   397700845   \n",
      "16       601                     LOLELIA        KAABONG  100919  1069331387   \n",
      "17       602                      LOYORO        KAABONG   16608  1330019236   \n",
      "18       603            NAPORE (KARENGA)        KAABONG   20394   309577387   \n",
      "20       765                        ABIM           ABIM   14377   188613057   \n",
      "21       766           ABIM TOWN COUNCIL           ABIM   11489   115941152   \n",
      "22       767                      ALEREK           ABIM   12573  1255760525   \n",
      "23       768                     LOTUKEI           ABIM   18641   191684465   \n",
      "24       769                     MORULEM           ABIM   16834   250364895   \n",
      "25       810                      KARITA         AMUDAT   45015   658008801   \n",
      "26       811                       LOROO         AMUDAT   22541   371970302   \n",
      "27       812                      AMUDAT         AMUDAT   30181   596393139   \n",
      "28       813         AMUDAT TOWN COUNCIL         AMUDAT    4053    17207110   \n",
      "29       925                  KATIKEKILE         MOROTO   11772   277451997   \n",
      "30       926                    NADUNGET         MOROTO   42115   596023780   \n",
      "31       927                       TAPAC         MOROTO   21999   622266516   \n",
      "32       928           NORTHERN DIVISION         MOROTO    7161     2738777   \n",
      "33       929           SOUTHERN DIVISION         MOROTO    3272     2121209   \n",
      "34       978                     LOREGAE  NAKAPIRIPIRIT   26644   928683431   \n",
      "35       979  NAKAPIRIPIRIT TOWN COUNCIL  NAKAPIRIPIRIT    1418     4673094   \n",
      "36       980                      NAMALU  NAKAPIRIPIRIT   25905   553067364   \n",
      "37       981                 KAKOMONGOLE  NAKAPIRIPIRIT   15960   312709097   \n",
      "38       982                    LOLACHAT  NAKAPIRIPIRIT   22801   642401705   \n",
      "39       983                 LORENGEDWAT  NAKAPIRIPIRIT    9929   435714604   \n",
      "40       984                   NABILATUK  NAKAPIRIPIRIT   27534   499776866   \n",
      "41      1023                      IRIIRI          NAPAK   46979  1030623258   \n",
      "42      1024                      LOPEEI          NAPAK   18815   790782350   \n",
      "43      1025                 LORENGECORA          NAPAK    2503   118997955   \n",
      "44      1026                      LOTOME          NAPAK   17834   125857565   \n",
      "45      1027                      MATANY          NAPAK   29495   338252511   \n",
      "46      1028          NAPAK TOWN COUNCIL          NAPAK    8010   150906375   \n",
      "47      1029                   NGOLERIET          NAPAK   20790   158887552   \n",
      "48      1295                     NYAKWAE           ABIM   16470   769609687   \n",
      "49      1313                      LOKOPO          NAPAK   23200  1794470536   \n",
      "50      1318                        RUPA         MOROTO   41493  2069554899   \n",
      "51      1320                     MORUITA  NAKAPIRIPIRIT   16588   839293722   \n",
      "\n",
      "   Karamoja  S_Yield_Ha   M_Yield_Ha  Crop_Area_Ha     S_Area_Ha    M_Area_Ha  \\\n",
      "0         Y  354.207411  1137.467019   7023.533691   6434.342449   528.124229   \n",
      "1         Y  367.890523  1162.996687  13587.990760  12455.592640   824.767081   \n",
      "2         Y  369.314177  1167.005832   1656.531855   1520.322052     8.561644   \n",
      "3         Y  283.324569   852.366578   7087.823334   6761.488901    45.721712   \n",
      "4         Y  373.836926  1283.859882  10398.249390  10111.198130   172.611914   \n",
      "5         Y  271.185843  1047.180128  13278.520430  12964.499730   171.585704   \n",
      "6         Y  160.588525   650.123565   1021.316990   1004.647534    15.660409   \n",
      "7         Y  212.210703  1229.213444    175.080527    156.503888    18.526186   \n",
      "8         Y  208.040518  1056.416068    967.336727    910.254122    56.275355   \n",
      "9         Y  209.809352   633.423182   2834.349905   2501.368282   331.225795   \n",
      "10        Y  259.898246   714.475743    997.161021    411.807001   549.863337   \n",
      "11        Y  301.154328  1030.064093   2365.259806   1624.564380   722.649869   \n",
      "12        Y  312.278615  1125.685462   6890.699234   5997.222911   867.873171   \n",
      "13        Y  298.449959   871.612802   3934.432233   2249.777060  1620.876815   \n",
      "14        Y  386.529819   985.192699   1890.248613    879.002339  1005.877396   \n",
      "15        Y  164.652061   815.255729    401.797821    324.202666    75.244398   \n",
      "16        Y  285.213427  1273.397362   2700.676313   2039.327583   656.586397   \n",
      "17        Y  284.183058  1303.403556   1491.771813   1318.309036   154.682239   \n",
      "18        Y  295.734350   765.334926   1494.047587    267.559128  1221.532726   \n",
      "20        Y  501.263249  1183.089648    999.371589    593.531315   259.449330   \n",
      "21        Y  439.750995  1061.151087    788.462800    472.601700   282.613094   \n",
      "22        Y  520.407672  1259.122045   1266.109868    902.684120   354.449035   \n",
      "23        Y  382.868986  1003.303910    698.171218    364.988891   321.847331   \n",
      "24        Y  407.500416   962.958170    925.054130    600.673107   299.151724   \n",
      "25        Y  193.904842  1286.723173   2513.271830   1358.647499  1100.152370   \n",
      "26        Y  200.696210  1196.088040   1539.401382    879.668004   658.917612   \n",
      "27        Y  239.047878  1379.045945   1651.998420    676.783266   972.174246   \n",
      "28        Y  146.117797   861.208491     60.772086     58.325090     2.416786   \n",
      "29        Y  311.006215   546.140294    145.243518     30.157048   103.277562   \n",
      "30        Y  133.667936   591.270355   2480.121900   2406.190665    70.505694   \n",
      "31        Y  155.869934   211.965635   1111.664207    315.979223   793.237094   \n",
      "32        Y  131.977698   241.538427      0.322316      0.130941     0.191375   \n",
      "33        Y  114.795569     0.000000      0.171390      0.171390     0.000000   \n",
      "34        Y  384.256293  1114.593607   5759.618906   4622.491870   864.110569   \n",
      "35        Y  482.438793  1257.802716     29.145760      1.339919    27.795767   \n",
      "36        Y  560.313070  1325.254872   5793.507623   2197.572106  3293.749460   \n",
      "37        Y  398.979005  1318.261936   3264.534948   2791.837410   457.357605   \n",
      "38        Y  334.284302  1225.930541   5079.779088   4364.693411   655.212276   \n",
      "39        Y  188.699612   795.733280   2008.068169   1917.576345    80.417027   \n",
      "40        Y  259.454122  1066.204758   3276.653762   3156.538704    87.474549   \n",
      "41        Y  229.299157   873.452242   5473.443674   1550.944570  3840.698081   \n",
      "42        Y  108.156411  1053.257168   3120.318045   2121.747320   955.264617   \n",
      "43        Y  184.081197   841.815010   1031.196285    672.121886   358.550335   \n",
      "44        Y  128.555598   507.907068   1849.966589   1770.358693    78.035892   \n",
      "45        Y  130.007687   497.353282   2990.847377   2664.796115   288.329571   \n",
      "46        Y  175.828068   725.813930    792.249273    386.158033   401.173442   \n",
      "47        Y  134.084089   528.699822   1215.227445   1145.339875    68.124005   \n",
      "48        Y  329.759030   779.225031    792.898789    342.816838   331.111340   \n",
      "49        Y  120.862232   748.829862   6471.047334   5830.549392   553.543123   \n",
      "50        Y  114.270921   699.334309   2217.290717   1989.119508   222.838881   \n",
      "51        Y  430.557375  1248.955812   1161.390229    185.283445   959.671162   \n",
      "\n",
      "      S_Prod_Tot    M_Prod_Tot  \n",
      "0   2.279092e+06  6.007239e+05  \n",
      "1   4.582294e+06  9.592014e+05  \n",
      "2   5.614765e+05  9.991488e+03  \n",
      "3   1.915696e+06  3.897166e+04  \n",
      "4   3.779939e+06  2.216095e+05  \n",
      "5   3.515789e+06  1.796811e+05  \n",
      "6   1.613349e+05  1.018120e+04  \n",
      "7   3.321180e+04  2.277264e+04  \n",
      "8   1.893697e+05  5.945019e+04  \n",
      "9   5.248105e+05  2.098061e+05  \n",
      "10  1.070279e+05  3.928640e+05  \n",
      "11  4.892446e+05  7.443757e+05  \n",
      "12  1.872804e+06  9.769522e+05  \n",
      "13  6.714459e+05  1.412777e+06  \n",
      "14  3.397606e+05  9.909831e+05  \n",
      "15  5.338064e+04  6.134343e+04  \n",
      "16  5.816436e+05  8.360954e+05  \n",
      "17  3.746411e+05  2.016134e+05  \n",
      "18  7.912642e+04  9.348817e+05  \n",
      "20  2.975154e+05  3.069518e+05  \n",
      "21  2.078271e+05  2.998952e+05  \n",
      "22  4.697637e+05  4.462946e+05  \n",
      "23  1.397429e+05  3.229107e+05  \n",
      "24  2.447745e+05  2.880706e+05  \n",
      "25  2.634483e+05  1.415592e+06  \n",
      "26  1.765460e+05  7.881235e+05  \n",
      "27  1.617836e+05  1.340673e+06  \n",
      "28  8.522334e+03  2.081356e+03  \n",
      "29  9.379029e+03  5.640404e+04  \n",
      "30  3.216305e+05  4.168793e+04  \n",
      "31  4.925166e+04  1.681390e+05  \n",
      "32  1.728126e+01  4.622440e+01  \n",
      "33  1.967487e+01  0.000000e+00  \n",
      "34  1.776222e+06  9.631321e+05  \n",
      "35  6.464290e+02  3.496159e+04  \n",
      "36  1.231328e+06  4.365058e+06  \n",
      "37  1.113885e+06  6.029171e+05  \n",
      "38  1.459048e+06  8.032447e+05  \n",
      "39  3.618459e+05  6.399050e+04  \n",
      "40  8.189770e+05  9.326578e+04  \n",
      "41  3.556303e+05  3.354666e+06  \n",
      "42  2.294806e+05  1.006139e+06  \n",
      "43  1.237250e+05  3.018331e+05  \n",
      "44  2.275895e+05  3.963498e+04  \n",
      "45  3.464440e+05  1.434017e+05  \n",
      "46  6.789742e+04  2.911773e+05  \n",
      "47  1.535719e+05  3.601715e+04  \n",
      "48  1.130469e+05  2.580102e+05  \n",
      "49  7.046932e+05  4.145096e+05  \n",
      "50  2.272985e+05  1.558389e+05  \n",
      "51  7.977515e+04  1.198587e+06  \n"
     ]
    }
   ],
   "source": [
    "print(subcounty_data)"
   ]
  },
  {
   "cell_type": "markdown",
   "metadata": {},
   "source": [
    "## > Save district_data and subcounty_data"
   ]
  },
  {
   "cell_type": "code",
   "execution_count": 84,
   "metadata": {},
   "outputs": [],
   "source": [
    "# Save the cleaned district_data\n",
    "district_data.to_csv('cleaned_district_data.csv', index=False)"
   ]
  },
  {
   "cell_type": "code",
   "execution_count": 85,
   "metadata": {},
   "outputs": [],
   "source": [
    "# Save the cleaned subcounty_data\n",
    "subcounty_data.to_csv('cleaned_subcounty_data.csv', index=False)"
   ]
  },
  {
   "cell_type": "code",
   "execution_count": 97,
   "metadata": {},
   "outputs": [],
   "source": [
    "# Load the cleaned data\n",
    "district_data = pd.read_csv('cleaned_district_data.csv')\n",
    "subcounty_data = pd.read_csv('cleaned_subcounty_data.csv')\n",
    "\n",
    "# Create a manual lookup table\n",
    "lookup_table = pd.DataFrame({\n",
    "    'OBJECTID': [92, 20, 85, 5, 54, 263, 264, 265, 266, 267],\n",
    "    'DISTRICT_NAME': ['ABIM', 'KAABONG', 'KOTIDO', 'MOROTO', 'NAKAPIRIPIRIT', 'KOTIDO', 'KOTIDO', 'KOTIDO', 'KOTIDO', 'KOTIDO'],\n",
    "    'SUBCOUNTY_NAME': [None, None, None, None, None, 'KACHERI', 'KOTIDO', 'KOTIDO TOWN COUNCIL', 'NAKAPERIMORU', 'PANYANGARA']\n",
    "})\n",
    "\n",
    "# Merge the lookup table with cleaned data to add names\n",
    "enriched_district_data = district_data.merge(lookup_table[['OBJECTID', 'DISTRICT_NAME']], on='OBJECTID', how='left')\n",
    "enriched_subcounty_data = subcounty_data.merge(lookup_table[['OBJECTID', 'SUBCOUNTY_NAME', 'DISTRICT_NAME']], on='OBJECTID', how='left')\n",
    "\n",
    "# Save the enriched data\n",
    "enriched_district_data.to_csv('enriched_district_data.csv', index=False)\n",
    "enriched_subcounty_data.to_csv('enriched_subcounty_data.csv', index=False)\n"
   ]
  },
  {
   "cell_type": "markdown",
   "metadata": {},
   "source": [
    "## > Perform Open-ended Exploratory Data Analysis"
   ]
  },
  {
   "cell_type": "code",
   "execution_count": 98,
   "metadata": {},
   "outputs": [
    {
     "name": "stdout",
     "output_type": "stream",
     "text": [
      "Average Maize Yield: 934.3333333333334\n",
      "Standard Deviation of Maize Yield: 318.6513245958138\n",
      "Correlation between Population and Maize Yield: 0.09157815623492413\n",
      "Average Sorghum Yield: 273.9463680549019\n",
      "Standard Deviation of Sorghum Yield: 119.73911026257957\n",
      "Correlation between Population and Sorghum Yield: -0.080998551615251\n"
     ]
    }
   ],
   "source": [
    "# Load the enriched data\n",
    "district_data = pd.read_csv('enriched_district_data.csv')\n",
    "subcounty_data = pd.read_csv('enriched_subcounty_data.csv')\n",
    "\n",
    "# Calculate mean\n",
    "maize_mean = district_data['M_Yield_Ha'].mean()\n",
    "sorghum_mean = subcounty_data['S_Yield_Ha'].mean()\n",
    "\n",
    "# Calculate standard deviation\n",
    "maize_std = district_data['M_Yield_Ha'].std()\n",
    "sorghum_std = subcounty_data['S_Yield_Ha'].std()\n",
    "\n",
    "# Calculate correlation\n",
    "correlation_maize_pop = district_data['POP'].corr(district_data['M_Yield_Ha'])\n",
    "correlation_sorghum_pop = subcounty_data['POP'].corr(subcounty_data['S_Yield_Ha'])\n",
    "\n",
    "print(f\"Average Maize Yield: {maize_mean}\")\n",
    "print(f\"Standard Deviation of Maize Yield: {maize_std}\")\n",
    "print(f\"Correlation between Population and Maize Yield: {correlation_maize_pop}\")\n",
    "\n",
    "print(f\"Average Sorghum Yield: {sorghum_mean}\")\n",
    "print(f\"Standard Deviation of Sorghum Yield: {sorghum_std}\")\n",
    "print(f\"Correlation between Population and Sorghum Yield: {correlation_sorghum_pop}\")\n"
   ]
  }
 ],
 "metadata": {
  "kernelspec": {
   "display_name": "Python (new_env_name)",
   "language": "python",
   "name": "new_env_name"
  },
  "language_info": {
   "codemirror_mode": {
    "name": "ipython",
    "version": 3
   },
   "file_extension": ".py",
   "mimetype": "text/x-python",
   "name": "python",
   "nbconvert_exporter": "python",
   "pygments_lexer": "ipython3",
   "version": "3.8.20"
  }
 },
 "nbformat": 4,
 "nbformat_minor": 4
}
